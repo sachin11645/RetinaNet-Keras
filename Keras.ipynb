{
 "cells": [
  {
   "cell_type": "code",
   "execution_count": null,
   "metadata": {},
   "outputs": [],
   "source": [
    "# Retinanet-Keras\n",
    "#Implementation of Keras-Retinanet in Poultry Behavior Dataset\n",
    "#In Linux Interface"
   ]
  },
  {
   "cell_type": "code",
   "execution_count": null,
   "metadata": {},
   "outputs": [],
   "source": [
    "# Getting Tools\n",
    "pip install --user --upgrade tensorflow-gpu\n",
    "pip install keras\n",
    "sudo pip install keras\n",
    "mkdir ~/RetinanetTutorial\n",
    "git clone https://github.com/jaspereb/Retinanet-Tutorial.git\n",
    "git clone https://github.com/fizyr/keras-retinanet.git"
   ]
  },
  {
   "cell_type": "code",
   "execution_count": null,
   "metadata": {},
   "outputs": [],
   "source": [
    "# Creating Dataset\n",
    "mkdir ~/RetinanetTutorial/Data #Put all images in this dataset folder\n",
    "cd ~/RetinanetTutorial/Data\n",
    "mkdir -p ~/RetinanetTutorial/PlumsVOC/JPEGImages\n",
    "mkdir ~/RetinanetTutorial/PlumsVOC/Annotations\n",
    "mkdir -p ~/RetinanetTutorial/PlumsVOC/ImageSets/Main\n",
    "cp ~/RetinanetTutorial/Data/* ~/RetinanetTutorial/PlumsVOC/JPEGImages"
   ]
  },
  {
   "cell_type": "code",
   "execution_count": null,
   "metadata": {},
   "outputs": [],
   "source": [
    "# Labelling\n",
    "#Using Makesence.AI to label the images\n",
    "#Renumberring the images\n",
    "#Editing the xml files to replace \"Unspecified\" with \"0\""
   ]
  },
  {
   "cell_type": "code",
   "execution_count": null,
   "metadata": {},
   "outputs": [],
   "source": [
    "# Making Imagesets\n",
    "cd ~/RetinanetTutorial/PlumsVOC/ImageSets/Main\n",
    "ls ../../JPEGImages/ > trainval.txt\n",
    "sed -i 's/.jpg//g' trainval.txt\n",
    "touch val.txt\n",
    "cp trainval.txt train.txt # Split and edit train and val text files with 60:40 ratio"
   ]
  },
  {
   "cell_type": "code",
   "execution_count": null,
   "metadata": {},
   "outputs": [],
   "source": [
    "#  Training\n",
    "mkdir -p ~/RetinanetTutorial/TrainingOutput/snapshots\n",
    "cd ~/RetinanetTutorial/keras-retinanet/\n",
    "#edit pascal_voc.py- voc classes\n",
    "#voc_classes = {\n",
    "    'Feeding'   : 0,\n",
    "    'Drinking'     : 1,\n",
    "    'Perching'        : 2,\n",
    "    'Pecking'        : 3,\n",
    "    'Dust Bathing'      : 4,\n",
    "    'Preening'         : 5,\n",
    "    'Foraging'         : 6\n",
    "}\n",
    "\n",
    "cd ~/RetinanetTutorial/keras-retinanet/\n",
    "pip install numpy --user\n",
    "pip install . --user\n",
    "python setup.py build_ext --inplace\n",
    "keras_retinanet/bin/train.py --tensorboard-dir ~/RetinanetTutorial/TrainingOutput \n",
    "--snapshot-path ~/RetinanetTutorial/TrainingOutput/snapshots --random-transform \n",
    "--steps 100 pascal ~/RetinanetTutorial/PlumsVOC #Edit steps per pascal and epochs if necessary)\n"
   ]
  },
  {
   "cell_type": "code",
   "execution_count": null,
   "metadata": {},
   "outputs": [],
   "source": [
    "# Deploying\n",
    "mkdir ~/RetinanetTutorial/RetinanetModels\n",
    "cp ~/RetinanetTutorial/TrainingOutput/snapshots/resnet50_pascal_06.h5 ~/RetinanetTutorial/RetinanetModels/PlumsTraining.h5\n",
    "cd ~/RetinanetTutorial/keras-retinanet/\n",
    "keras_retinanet/bin/convert_model.py ~/RetinanetTutorial/RetinanetModels/PlumsTraining.h5 ~/RetinanetTutorial/RetinanetModels/PlumsInference.h5\n",
    "cd ~/RetinanetTutorial/\n",
    "#Edit testDetector.py to give paths for input and output"
   ]
  },
  {
   "cell_type": "code",
   "execution_count": null,
   "metadata": {},
   "outputs": [],
   "source": [
    "# Detection\n",
    "cd /home/datascience/RetinanetTutorial/Retinanet-Tutorial\n",
    "!python testDetector.py"
   ]
  }
 ],
 "metadata": {
  "kernelspec": {
   "display_name": "Python 3.9.12 ('base')",
   "language": "python",
   "name": "python3"
  },
  "language_info": {
   "name": "python",
   "version": "3.9.12"
  },
  "orig_nbformat": 4,
  "vscode": {
   "interpreter": {
    "hash": "ae86b0bece90c9344cbac9a4e027963974917bb766dfa3d68a5a47c230117f54"
   }
  }
 },
 "nbformat": 4,
 "nbformat_minor": 2
}
